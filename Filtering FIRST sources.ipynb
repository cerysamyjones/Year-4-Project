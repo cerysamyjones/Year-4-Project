{
 "cells": [
  {
   "cell_type": "markdown",
   "metadata": {},
   "source": [
    "<font size = 3>This script is designed to help identify more AGN with jets from a list of all FIRST survey sources. Once potential candidates have been identified, these can be run through a classifying neural network to check if they are likely to be true AGN with jets. \n",
    "\n",
    "This will be helpful to check the success of the neural network, but also has the opportunity to greatly increase the size our existing training set of AGN with jets, which is very important for the accuracy of more complex neural networks."
   ]
  },
  {
   "cell_type": "code",
   "execution_count": null,
   "metadata": {},
   "outputs": [],
   "source": [
    "from astropy.io import fits \n",
    "import numpy as np\n",
    "from selenium import webdriver\n",
    "import time\n",
    "from selenium.common.exceptions import NoSuchElementException\n",
    "import matplotlib.pyplot as plt"
   ]
  },
  {
   "cell_type": "code",
   "execution_count": 19,
   "metadata": {},
   "outputs": [],
   "source": [
    "# Get data from fits file of all identified FIRST sources\n",
    "hdulist = fits.open('first_14dec17.fits')\n",
    "d = hdulist[1].data\n",
    "n = len(d) # Number of sources we want to get\n",
    "\n",
    "ra = np.empty(n)\n",
    "for i in range(n):\n",
    "    ra[i] = (d[i])[0] #convert to hours\n",
    "ra = ra/15\n",
    "\n",
    "dec = np.empty(n)\n",
    "for i in range(n):\n",
    "    dec[i] = (d[i])[1] #in degrees\n",
    "    \n",
    "fpeak = np.empty(n)\n",
    "for i in range(n):\n",
    "    fpeak[i] = (d[i])[3]\n",
    "    \n",
    "fint = np.empty(n)\n",
    "for i in range(n):\n",
    "    fint[i] = (d[i])[4]\n",
    "    \n",
    "major = np.empty(n)\n",
    "for i in range(n):\n",
    "    major[i] = (d[i])[9]\n",
    "   \n",
    "minor = np.empty(n)\n",
    "for i in range(n):\n",
    "    minor[i] = (d[i])[10]"
   ]
  },
  {
   "cell_type": "markdown",
   "metadata": {},
   "source": [
    "<font size = 3>From a preliminary search through the data, it became clear that most of the potential AGN with jets in the survey have had each lobe identified as a seperate sources. \n",
    "\n",
    "By plotting the distance to the nearest neighbours of the sources, we can see a large spike around zero, showing that many sources exist that are very close together. These are very likely candidates for AGN with jets so these are the sources we should focus on."
   ]
  },
  {
   "cell_type": "code",
   "execution_count": null,
   "metadata": {},
   "outputs": [],
   "source": [
    "d = []\n",
    "for m in range(20000):\n",
    "    dec_dist = dec - dec[m]\n",
    "    ra_dist = ra - ra[m]\n",
    "    distance = np.sqrt(dec_dist**2+ra_dist**2)\n",
    "    distance[m] = 10*8\n",
    "    nearest_neighbour = np.min(distance)\n",
    "    d.append(nearest_neighbour)"
   ]
  },
  {
   "cell_type": "code",
   "execution_count": 18,
   "metadata": {},
   "outputs": [
    {
     "data": {
      "image/png": "[encoded data removed]",
      "text/plain": [
       "<Figure size 432x288 with 1 Axes>"
      ]
     },
     "metadata": {
      "needs_background": "light"
     },
     "output_type": "display_data"
    }
   ],
   "source": [
    "plt.hist(d,bins=100)\n",
    "plt.axvline(0.006,color='purple')\n",
    "plt.show()"
   ]
  },
  {
   "cell_type": "markdown",
   "metadata": {},
   "source": [
    "<font size = 3>Conversely, we can also look at symmetry of sources and their spread to identify and remove point sources. However, this is not as accurate because some of AGN jets appear can appear very symmetrical and we don't want to lose thes sources in the process. "
   ]
  },
  {
   "cell_type": "code",
   "execution_count": null,
   "metadata": {},
   "outputs": [],
   "source": [
    "#suspected point sources\n",
    "ps = []\n",
    "#objects of interest\n",
    "ooi = []  \n",
    "\n",
    "#check symmetry of sources\n",
    "for m in range(n):\n",
    "    if major[m]/minor[m] <= 1:\n",
    "        ps.append(m)\n",
    "    else:\n",
    "        ooi.append(m)\n",
    "\n",
    "#check spread of source using peak/int values\n",
    "def check_integration(var):\n",
    "    ps = []\n",
    "    for m in range(len(var)):\n",
    "        if fint[m]/fpeak[m] <= 1.2:\n",
    "            ps.append(m)\n",
    "    return ps\n",
    "\n",
    "#check brightness of sources (too dim are hard to deal with)\n",
    "def check_brightness(var):\n",
    "    ps = []\n",
    "    for m in range(len(var)):\n",
    "        if fpeak[m] >= 2:\n",
    "            ps.append(m)\n",
    "    return ps\n",
    "\n",
    "ind = check_brightness(check_integration(ps))\n",
    "right = []\n",
    "decl = []\n",
    "for i in ind:\n",
    "    right.append(ra[i]/15)\n",
    "    decl.append(dec[i])"
   ]
  },
  {
   "cell_type": "markdown",
   "metadata": {},
   "source": [
    "<font size = 3>Webscraper makes it easy to look through the images quickly and determine whether a certain 'filter' is picking out the sources we would expect."
   ]
  },
  {
   "cell_type": "code",
   "execution_count": null,
   "metadata": {},
   "outputs": [],
   "source": [
    "#Webscraper - gets the images quickly so we can look through a few and \n",
    "#Open chrome and maximise\n",
    "driver = webdriver.Chrome()\n",
    "driver.maximize_window()\n",
    "\n",
    "#Get webpage that cutouts can be downloaded from\n",
    "driver.get(\"https://third.ucllnl.org/cgi-bin/firstcutout\")\n",
    "\n",
    "#Assign required image size (in arcmin) by finding image size element and changing its value\n",
    "size_arcmin = 2.5\n",
    "imagesize = driver.find_element_by_name('ImageSize')\n",
    "driver.execute_script(\"arguments[0].value=arguments[1]\",imagesize,'{}'.format(size_arcmin))\n",
    "\n",
    "#len(ra)\n",
    "#Loop to copy each RA and dec into the cutout search engine and download each image\n",
    "for i in range(3000):\n",
    "    try:\n",
    "        #Finds search box and changes value to a string with RA and dec \n",
    "        radec = driver.find_element_by_name('RA')\n",
    "        ra = ra_jets\n",
    "        dec = dec_jets\n",
    "        driver.execute_script(\"arguments[0].value=arguments[1]\",radec,\"{}, {}\".format(ra[i],dec[i]))\n",
    "        #Clicks on button to select download type to be a FITS image\n",
    "        fits_file = driver.find_elements_by_name('ImageType')[0]\n",
    "        fits_file.click()\n",
    "        #Clicks submit to download image\n",
    "        submit = driver.find_element_by_name('.submit')\n",
    "        submit.click()\n",
    "    except NoSuchElementException:\n",
    "        #Exception incase the input RA and dec are out of range of the database\n",
    "        #Resets the webpage and continues loop through remaining values\n",
    "        print ('Could not find element {}'.format(i))\n",
    "        driver.get(\"https://third.ucllnl.org/cgi-bin/firstcutout\")\n",
    "        time.sleep(3)\n",
    "        imagesize = driver.find_element_by_name('ImageSize') #in arcmins\n",
    "        driver.execute_script(\"arguments[0].value=arguments[1]\",imagesize,'2.5')\n",
    "        continue"
   ]
  }
 ],
 "metadata": {
  "kernelspec": {
   "display_name": "Python 3",
   "language": "python",
   "name": "python3"
  },
  "language_info": {
   "codemirror_mode": {
    "name": "ipython",
    "version": 3
   },
   "file_extension": ".py",
   "mimetype": "text/x-python",
   "name": "python",
   "nbconvert_exporter": "python",
   "pygments_lexer": "ipython3",
   "version": "3.7.3"
  }
 },
 "nbformat": 4,
 "nbformat_minor": 2
}
